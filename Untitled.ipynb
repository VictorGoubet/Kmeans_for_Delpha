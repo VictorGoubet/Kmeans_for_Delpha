{
 "cells": [
  {
   "cell_type": "markdown",
   "id": "indirect-cliff",
   "metadata": {},
   "source": [
    "<center><h1> From Scratch Kmeans </h1>\n",
    "    <h3>Delpha interview <h3> </center>\n",
    "        \n",
    "-----"
   ]
  },
  {
   "cell_type": "markdown",
   "id": "ordered-albany",
   "metadata": {},
   "source": [
    "# Library"
   ]
  },
  {
   "cell_type": "code",
   "execution_count": 1,
   "id": "vocal-scenario",
   "metadata": {},
   "outputs": [],
   "source": [
    "import numpy as np\n",
    "import random as rd\n",
    "import  matplotlib.pyplot as plt "
   ]
  },
  {
   "cell_type": "markdown",
   "id": "brown-group",
   "metadata": {},
   "source": [
    "# Define our dataset"
   ]
  },
  {
   "cell_type": "markdown",
   "id": "unauthorized-spending",
   "metadata": {},
   "source": [
    "We will create here features with 2 dimensions. We could use 3, 4 ..n anyway, but more simple to plot (avoid ACP etc)"
   ]
  },
  {
   "cell_type": "code",
   "execution_count": 2,
   "id": "twenty-slovakia",
   "metadata": {},
   "outputs": [],
   "source": [
    "def get_dataset(np, nc, sigma):\n",
    "    np = np // nc \n",
    "    points_x, points_y = [], []\n",
    "    \n",
    "    for k in range(nc):\n",
    "        # create centroid\n",
    "        cx = rd.randrange(0, 10)\n",
    "        cy = rd.randrange(0, 10)\n",
    "        \n",
    "        # create points according to a normal distribution arround the centroid\n",
    "        for i in range(np):\n",
    "            px = rd.normalvariate(cx, sigma)\n",
    "            py = rd.normalvariate(cy, sigma)\n",
    "            points_x.append(px)\n",
    "            points_y.append(py)\n",
    "    return points_x, points_y"
   ]
  },
  {
   "cell_type": "markdown",
   "id": "modular-cancer",
   "metadata": {},
   "source": [
    "Let's create 12 clusters with a total of points arround 200 and coordonates in $[0, 10]$"
   ]
  },
  {
   "cell_type": "code",
   "execution_count": 3,
   "id": "instant-payroll",
   "metadata": {},
   "outputs": [],
   "source": [
    "dataset = get_dataset(200, 12, 0.3)"
   ]
  },
  {
   "cell_type": "code",
   "execution_count": 8,
   "id": "alike-pursuit",
   "metadata": {},
   "outputs": [
    {
     "data": {
      "image/png": "[encoded data removed]",
      "text/plain": [
       "<Figure size 432x288 with 1 Axes>"
      ]
     },
     "metadata": {
      "needs_background": "light"
     },
     "output_type": "display_data"
    }
   ],
   "source": [
    "plt.scatter(dataset[0], dataset[1]);"
   ]
  },
  {
   "cell_type": "markdown",
   "id": "concrete-pakistan",
   "metadata": {},
   "source": [
    "Perfect !"
   ]
  },
  {
   "cell_type": "markdown",
   "id": "artificial-spice",
   "metadata": {},
   "source": [
    "# Define our $k_{mean}$ class"
   ]
  },
  {
   "cell_type": "markdown",
   "id": "dirty-motivation",
   "metadata": {},
   "source": [
    "Note that this kmeans has been created for n-dimension points. So here we use n=2 but we could use n=10 for example."
   ]
  },
  {
   "cell_type": "code",
   "execution_count": 10,
   "id": "exotic-programming",
   "metadata": {},
   "outputs": [],
   "source": [
    "class kmeans():\n",
    "    \n",
    "    def __init__(self, k, epochs):\n",
    "        self.k = k\n",
    "        self.epochs = epochs\n",
    "        self.clusters = None\n",
    "\n",
    "    def fit(self, features):\n",
    "        self.features = features\n",
    "\n",
    "    def train(self):\n",
    "        # just choose random centroids\n",
    "        centroids = self.initialize_centroids()\n",
    "        # assign each point to the nearest centroid\n",
    "        clusters = self.assignement(centroids)\n",
    "        \n",
    "        for i in range(self.epochs):\n",
    "            # each time recompute new centroids according to the mean \n",
    "            means = self.compute_means(clusters)\n",
    "            # and then re-assign each point to the nearest cluster\n",
    "            clusters = self.assignement(means)\n",
    "            \n",
    "        self.clusters = clusters\n",
    "        \n",
    "    def initialize_centroids(self):\n",
    "        centroids = []\n",
    "        for i in range(self.k):\n",
    "            centroid = []\n",
    "            for feature in self.features:\n",
    "                mn, mx = int(min(feature)) + 1, int(max(feature)) - 1\n",
    "                c = rd.randrange(mn, mx)\n",
    "                centroid.append(c)\n",
    "            centroids.append(centroid)\n",
    "        return centroids\n",
    "    \n",
    "    def assignement(self, centroids):\n",
    "        clusters = {}\n",
    "        # Just reorganize points structure to smtg like [[1, 5], [5, 6], ...]\n",
    "        points = [np.array(self.features)[:, k] for k in range(len(self.features[0]))]\n",
    "        \n",
    "        for p in points:\n",
    "            choosen_c, d0 = None, np.inf\n",
    "            \n",
    "            # For each point we select the nearest centroid\n",
    "            for centroid in centroids:\n",
    "                d = self.get_distance(p, centroid)\n",
    "                if d < d0:\n",
    "                    d0 = d\n",
    "                    choosen_c = tuple(centroid)\n",
    "            \n",
    "            if choosen_c in clusters.keys():\n",
    "                clusters[choosen_c] += [p]\n",
    "            else:\n",
    "                clusters[choosen_c] = [p]\n",
    "                \n",
    "        return clusters\n",
    "    \n",
    "    def get_distance(self, p1, p2):\n",
    "        d = 0\n",
    "        for k in range(len(p1)):\n",
    "            # Use Euclidian distance here we could use other distance also\n",
    "            d += (p1[k] - p2[k]) ** 2\n",
    "        return d\n",
    "    \n",
    "    def compute_means(self, clusters):\n",
    "        means = []\n",
    "        for centroid in clusters.keys():\n",
    "            mean = np.mean(clusters[centroid], axis=0)\n",
    "            means.append(mean)\n",
    "\n",
    "        return means\n",
    "    \n",
    "    def predict(self):\n",
    "        return self.clusters\n"
   ]
  },
  {
   "cell_type": "markdown",
   "id": "alive-foster",
   "metadata": {},
   "source": [
    "Let's define a function just to plot clusters"
   ]
  },
  {
   "cell_type": "code",
   "execution_count": 14,
   "id": "worth-cricket",
   "metadata": {},
   "outputs": [],
   "source": [
    "def plot_clusters(clusters):\n",
    "    for centroid in clusters.keys():\n",
    "        points = np.array(clusters[centroid])\n",
    "        x = points[:, 0]\n",
    "        y = points[:, 1]\n",
    "        plt.scatter(x, y)\n",
    "    plt.grid()\n",
    "    plt.show()"
   ]
  },
  {
   "cell_type": "code",
   "execution_count": 15,
   "id": "sexual-boundary",
   "metadata": {},
   "outputs": [
    {
     "data": {
      "image/png": "[encoded data removed]",
      "text/plain": [
       "<Figure size 432x288 with 1 Axes>"
      ]
     },
     "metadata": {
      "needs_background": "light"
     },
     "output_type": "display_data"
    }
   ],
   "source": [
    "rd.seed(2799)\n",
    "model = kmeans(k=12, epochs=5)\n",
    "model.fit(dataset)\n",
    "model.train()\n",
    "\n",
    "clusters = model.predict()\n",
    "\n",
    "plot_clusters(clusters)"
   ]
  },
  {
   "cell_type": "markdown",
   "id": "later-robert",
   "metadata": {},
   "source": [
    "Great ! It works well :)"
   ]
  },
  {
   "cell_type": "code",
   "execution_count": null,
   "id": "stuck-novel",
   "metadata": {},
   "outputs": [],
   "source": []
  }
 ],
 "metadata": {
  "kernelspec": {
   "display_name": "Python 3",
   "language": "python",
   "name": "python3"
  },
  "language_info": {
   "codemirror_mode": {
    "name": "ipython",
    "version": 3
   },
   "file_extension": ".py",
   "mimetype": "text/x-python",
   "name": "python",
   "nbconvert_exporter": "python",
   "pygments_lexer": "ipython3",
   "version": "3.9.1"
  }
 },
 "nbformat": 4,
 "nbformat_minor": 5
}
